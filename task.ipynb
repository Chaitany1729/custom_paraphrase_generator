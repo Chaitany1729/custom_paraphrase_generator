{
 "cells": [
  {
   "cell_type": "code",
   "execution_count": 1,
   "metadata": {},
   "outputs": [
    {
     "name": "stderr",
     "output_type": "stream",
     "text": [
      "/Users/chaitanya/Personal/Projects/project_env/lib/python3.11/site-packages/tqdm/auto.py:21: TqdmWarning: IProgress not found. Please update jupyter and ipywidgets. See https://ipywidgets.readthedocs.io/en/stable/user_install.html\n",
      "  from .autonotebook import tqdm as notebook_tqdm\n"
     ]
    }
   ],
   "source": [
    "from transformers import AutoTokenizer, AutoModelForSeq2SeqLM\n",
    "import torch\n",
    "\n",
    "import re\n",
    "import nltk.data\n",
    "from nltk.tokenize import word_tokenize\n",
    "\n",
    "import textstat\n",
    "import evaluate\n",
    "from rouge_score import rouge_scorer"
   ]
  },
  {
   "cell_type": "code",
   "execution_count": 2,
   "metadata": {},
   "outputs": [
    {
     "name": "stderr",
     "output_type": "stream",
     "text": [
      "You are using the default legacy behaviour of the <class 'transformers.models.t5.tokenization_t5.T5Tokenizer'>. This is expected, and simply means that the `legacy` (previous) behavior will be used so nothing changes for you. If you want to use the new behaviour, set `legacy=False`. This should only be set if you understand what it means, and thoroughly read the reason why this was added as explained in https://github.com/huggingface/transformers/pull/24565\n"
     ]
    }
   ],
   "source": [
    "model = AutoModelForSeq2SeqLM.from_pretrained(\"./t5-large-paraphraser-diverse-high-quality\")\n",
    "tokenizer = AutoTokenizer.from_pretrained(\"./t5-large-paraphraser-diverse-high-quality\")"
   ]
  },
  {
   "cell_type": "code",
   "execution_count": 3,
   "metadata": {},
   "outputs": [],
   "source": [
    "sent_tokenizer = nltk.data.load('tokenizers/punkt/PY3/english.pickle')"
   ]
  },
  {
   "cell_type": "code",
   "execution_count": 4,
   "metadata": {},
   "outputs": [
    {
     "name": "stdout",
     "output_type": "stream",
     "text": [
      "device  cpu\n"
     ]
    },
    {
     "data": {
      "text/plain": [
       "T5ForConditionalGeneration(\n",
       "  (shared): Embedding(32128, 1024)\n",
       "  (encoder): T5Stack(\n",
       "    (embed_tokens): Embedding(32128, 1024)\n",
       "    (block): ModuleList(\n",
       "      (0): T5Block(\n",
       "        (layer): ModuleList(\n",
       "          (0): T5LayerSelfAttention(\n",
       "            (SelfAttention): T5Attention(\n",
       "              (q): Linear(in_features=1024, out_features=1024, bias=False)\n",
       "              (k): Linear(in_features=1024, out_features=1024, bias=False)\n",
       "              (v): Linear(in_features=1024, out_features=1024, bias=False)\n",
       "              (o): Linear(in_features=1024, out_features=1024, bias=False)\n",
       "              (relative_attention_bias): Embedding(32, 16)\n",
       "            )\n",
       "            (layer_norm): T5LayerNorm()\n",
       "            (dropout): Dropout(p=0.1, inplace=False)\n",
       "          )\n",
       "          (1): T5LayerFF(\n",
       "            (DenseReluDense): T5DenseActDense(\n",
       "              (wi): Linear(in_features=1024, out_features=4096, bias=False)\n",
       "              (wo): Linear(in_features=4096, out_features=1024, bias=False)\n",
       "              (dropout): Dropout(p=0.1, inplace=False)\n",
       "              (act): ReLU()\n",
       "            )\n",
       "            (layer_norm): T5LayerNorm()\n",
       "            (dropout): Dropout(p=0.1, inplace=False)\n",
       "          )\n",
       "        )\n",
       "      )\n",
       "      (1-23): 23 x T5Block(\n",
       "        (layer): ModuleList(\n",
       "          (0): T5LayerSelfAttention(\n",
       "            (SelfAttention): T5Attention(\n",
       "              (q): Linear(in_features=1024, out_features=1024, bias=False)\n",
       "              (k): Linear(in_features=1024, out_features=1024, bias=False)\n",
       "              (v): Linear(in_features=1024, out_features=1024, bias=False)\n",
       "              (o): Linear(in_features=1024, out_features=1024, bias=False)\n",
       "            )\n",
       "            (layer_norm): T5LayerNorm()\n",
       "            (dropout): Dropout(p=0.1, inplace=False)\n",
       "          )\n",
       "          (1): T5LayerFF(\n",
       "            (DenseReluDense): T5DenseActDense(\n",
       "              (wi): Linear(in_features=1024, out_features=4096, bias=False)\n",
       "              (wo): Linear(in_features=4096, out_features=1024, bias=False)\n",
       "              (dropout): Dropout(p=0.1, inplace=False)\n",
       "              (act): ReLU()\n",
       "            )\n",
       "            (layer_norm): T5LayerNorm()\n",
       "            (dropout): Dropout(p=0.1, inplace=False)\n",
       "          )\n",
       "        )\n",
       "      )\n",
       "    )\n",
       "    (final_layer_norm): T5LayerNorm()\n",
       "    (dropout): Dropout(p=0.1, inplace=False)\n",
       "  )\n",
       "  (decoder): T5Stack(\n",
       "    (embed_tokens): Embedding(32128, 1024)\n",
       "    (block): ModuleList(\n",
       "      (0): T5Block(\n",
       "        (layer): ModuleList(\n",
       "          (0): T5LayerSelfAttention(\n",
       "            (SelfAttention): T5Attention(\n",
       "              (q): Linear(in_features=1024, out_features=1024, bias=False)\n",
       "              (k): Linear(in_features=1024, out_features=1024, bias=False)\n",
       "              (v): Linear(in_features=1024, out_features=1024, bias=False)\n",
       "              (o): Linear(in_features=1024, out_features=1024, bias=False)\n",
       "              (relative_attention_bias): Embedding(32, 16)\n",
       "            )\n",
       "            (layer_norm): T5LayerNorm()\n",
       "            (dropout): Dropout(p=0.1, inplace=False)\n",
       "          )\n",
       "          (1): T5LayerCrossAttention(\n",
       "            (EncDecAttention): T5Attention(\n",
       "              (q): Linear(in_features=1024, out_features=1024, bias=False)\n",
       "              (k): Linear(in_features=1024, out_features=1024, bias=False)\n",
       "              (v): Linear(in_features=1024, out_features=1024, bias=False)\n",
       "              (o): Linear(in_features=1024, out_features=1024, bias=False)\n",
       "            )\n",
       "            (layer_norm): T5LayerNorm()\n",
       "            (dropout): Dropout(p=0.1, inplace=False)\n",
       "          )\n",
       "          (2): T5LayerFF(\n",
       "            (DenseReluDense): T5DenseActDense(\n",
       "              (wi): Linear(in_features=1024, out_features=4096, bias=False)\n",
       "              (wo): Linear(in_features=4096, out_features=1024, bias=False)\n",
       "              (dropout): Dropout(p=0.1, inplace=False)\n",
       "              (act): ReLU()\n",
       "            )\n",
       "            (layer_norm): T5LayerNorm()\n",
       "            (dropout): Dropout(p=0.1, inplace=False)\n",
       "          )\n",
       "        )\n",
       "      )\n",
       "      (1-23): 23 x T5Block(\n",
       "        (layer): ModuleList(\n",
       "          (0): T5LayerSelfAttention(\n",
       "            (SelfAttention): T5Attention(\n",
       "              (q): Linear(in_features=1024, out_features=1024, bias=False)\n",
       "              (k): Linear(in_features=1024, out_features=1024, bias=False)\n",
       "              (v): Linear(in_features=1024, out_features=1024, bias=False)\n",
       "              (o): Linear(in_features=1024, out_features=1024, bias=False)\n",
       "            )\n",
       "            (layer_norm): T5LayerNorm()\n",
       "            (dropout): Dropout(p=0.1, inplace=False)\n",
       "          )\n",
       "          (1): T5LayerCrossAttention(\n",
       "            (EncDecAttention): T5Attention(\n",
       "              (q): Linear(in_features=1024, out_features=1024, bias=False)\n",
       "              (k): Linear(in_features=1024, out_features=1024, bias=False)\n",
       "              (v): Linear(in_features=1024, out_features=1024, bias=False)\n",
       "              (o): Linear(in_features=1024, out_features=1024, bias=False)\n",
       "            )\n",
       "            (layer_norm): T5LayerNorm()\n",
       "            (dropout): Dropout(p=0.1, inplace=False)\n",
       "          )\n",
       "          (2): T5LayerFF(\n",
       "            (DenseReluDense): T5DenseActDense(\n",
       "              (wi): Linear(in_features=1024, out_features=4096, bias=False)\n",
       "              (wo): Linear(in_features=4096, out_features=1024, bias=False)\n",
       "              (dropout): Dropout(p=0.1, inplace=False)\n",
       "              (act): ReLU()\n",
       "            )\n",
       "            (layer_norm): T5LayerNorm()\n",
       "            (dropout): Dropout(p=0.1, inplace=False)\n",
       "          )\n",
       "        )\n",
       "      )\n",
       "    )\n",
       "    (final_layer_norm): T5LayerNorm()\n",
       "    (dropout): Dropout(p=0.1, inplace=False)\n",
       "  )\n",
       "  (lm_head): Linear(in_features=1024, out_features=32128, bias=False)\n",
       ")"
      ]
     },
     "execution_count": 4,
     "metadata": {},
     "output_type": "execute_result"
    }
   ],
   "source": [
    "device = torch.device(\"cuda\" if torch.cuda.is_available() else \"cpu\")\n",
    "print (\"device \",device)\n",
    "model = model.to(device)\n",
    "model.eval()"
   ]
  },
  {
   "cell_type": "code",
   "execution_count": 5,
   "metadata": {},
   "outputs": [],
   "source": [
    "def generate_paraphrases(context):\n",
    "    text = \"paraphrase: \"+context + \" </s>\"\n",
    "    encoding = tokenizer.encode_plus(text,max_length =128,truncation=\"only_first\", padding=True, return_tensors=\"pt\",return_overflowing_tokens=True,)\n",
    "    input_ids = encoding[\"input_ids\"].to(device)\n",
    "    split_sentences = [tokenizer.decode(encoded_input) for encoded_input in input_ids]\n",
    "    paras = []\n",
    "    for sent in split_sentences:\n",
    "        encoding = tokenizer.encode_plus(sent,max_length =128, padding=True, return_tensors=\"pt\")\n",
    "\n",
    "        input_ids,attention_mask  = encoding[\"input_ids\"].to(device), encoding[\"attention_mask\"].to(device)\n",
    "        beam_outputs = model.generate(\n",
    "            input_ids=input_ids,attention_mask=attention_mask,\n",
    "            max_length=128,\n",
    "            early_stopping=True,\n",
    "            num_beams=15,\n",
    "            num_return_sequences=1\n",
    "\n",
    "        )\n",
    "\n",
    "        for beam_output in beam_outputs:\n",
    "            para_sent = tokenizer.decode(beam_output, skip_special_tokens=True,clean_up_tokenization_spaces=True)\n",
    "            pattern = r\"paraphrasedoutput:\\s*(.*)\"\n",
    "            match = re.search(pattern, para_sent)\n",
    "            paras.append(match.group(1))\n",
    "\n",
    "    combined = \" \".join(paras)\n",
    "    return combined\n"
   ]
  },
  {
   "cell_type": "code",
   "execution_count": 6,
   "metadata": {},
   "outputs": [],
   "source": [
    "def split_context(context):\n",
    "    sents = sent_tokenizer.tokenize(context)\n",
    "    complete_sents = []\n",
    "    for sent in sents:\n",
    "        sent = sent.strip()\n",
    "        if not sent[0].isupper():\n",
    "            if not complete_sents or sent[0].isnumeric():\n",
    "                complete_sent = sent\n",
    "            else :\n",
    "                last_sent = complete_sents.pop()\n",
    "                complete_sent = last_sent + \" \" + sent\n",
    "        else:\n",
    "            complete_sent = sent\n",
    "        complete_sents.append(complete_sent)\n",
    "\n",
    "    return complete_sents"
   ]
  },
  {
   "cell_type": "code",
   "execution_count": 7,
   "metadata": {},
   "outputs": [],
   "source": [
    "def paraphrase_context(context):\n",
    "    sentences = split_context(context)\n",
    "    para_sents = [generate_paraphrases(sent) for sent in sentences]\n",
    "    output = \" \".join(para_sents)\n",
    "    return output"
   ]
  },
  {
   "cell_type": "code",
   "execution_count": 8,
   "metadata": {},
   "outputs": [],
   "source": [
    "def get_text_statistics(text):\n",
    "\n",
    "\n",
    "        word_count = textstat.lexicon_count(text, removepunct=True)\n",
    "        sentence_count = textstat.sentence_count(text)\n",
    "        word_to_sentence_ratio = round(word_count / sentence_count, 2)\n",
    "        readability_score = textstat.flesch_reading_ease(text)\n",
    "\n",
    "\n",
    "\n",
    "        text_stat = {\n",
    "            \"word_count\": word_count,\n",
    "            \"sentence_count\": sentence_count,\n",
    "            \"word_to_sentence_ratio\": word_to_sentence_ratio,\n",
    "            \"readability_score\": readability_score,\n",
    "        }\n",
    "\n",
    "        return text_stat"
   ]
  },
  {
   "cell_type": "code",
   "execution_count": 9,
   "metadata": {},
   "outputs": [],
   "source": [
    "def evaluate_parapharsing(context, paraphrased_context):\n",
    "    metrics = {}\n",
    "    metrics[\"context_stats\"] = get_text_statistics(context)\n",
    "    metrics[\"para_stats\"] = get_text_statistics(paraphrased_context)\n",
    "\n",
    "    rougescorer = rouge_scorer.RougeScorer(['rouge4', 'rouge8', 'rougeL'])\n",
    "    metrics[\"rouge_scores\"] = rougescorer.score(context, paraphrased_context)\n",
    "\n",
    "    bleu = evaluate.load(\"bleu\")\n",
    "    metrics[\"bleu_scores\"] = bleu.compute(predictions=[paraphrased_context], references=[context])\n",
    "\n",
    "    return metrics\n",
    "\n",
    "    "
   ]
  },
  {
   "cell_type": "code",
   "execution_count": 18,
   "metadata": {},
   "outputs": [],
   "source": [
    "from mistralai.client import MistralClient\n",
    "from mistralai.models.chat_completion import ChatMessage\n",
    "\n",
    "def paraphrase_context_llm(context, api_key):\n",
    "    mistral_prompt = \"\"\"You are an English language expert, your job is to facilitate reading comprehension by\n",
    "transforming the text into a more familiar, and in the field of composition, allow writers to restate ideas\n",
    "from other works or their own drafts so that the reformatted language may better suit a voice, flow, or line\n",
    "of argument. You will be provided a passge, followed by \"### Input Passage ###\". Generate a parapharsed version of it with a minimum length of 80% of the input text length.\"\"\"\n",
    "    final_messgae = mistral_prompt + \"\\n\\n\" + \"### Input Passage ###\" + \"\\n\" + context \n",
    "    model = \"mistral-large-latest\"\n",
    "\n",
    "    client = MistralClient(api_key=api_key)\n",
    "\n",
    "    chat_response = client.chat(\n",
    "        model=model,\n",
    "        messages=[ChatMessage(role=\"user\", content=final_messgae)],\n",
    "        temperature=0.2,\n",
    "        max_tokens=400\n",
    "    )\n",
    "    return chat_response.choices[0].message.content\n"
   ]
  },
  {
   "cell_type": "code",
   "execution_count": 22,
   "metadata": {},
   "outputs": [],
   "source": [
    "import matplotlib.pyplot as plt\n",
    "import numpy as np\n",
    "\n",
    "\n",
    "def plot_results(cpg_metrics, llm_metrics):\n",
    "    models = [\"Input\", \"CPG\", \"Mistral LLM\"]\n",
    "    readability_scores = [\n",
    "        cpg_metrics[\"context_stats\"][\"readability_score\"],\n",
    "        cpg_metrics[\"para_stats\"][\"readability_score\"],\n",
    "        llm_metrics[\"para_stats\"][\"readability_score\"],\n",
    "    ]\n",
    "\n",
    "    plt.figure(figsize=(8, 6))\n",
    "    plt.bar(models, readability_scores, color=[\"blue\", \"green\", \"red\"])\n",
    "\n",
    "    plt.title(\"Readability Scores of Different Models\")\n",
    "    plt.xlabel(\"Models\")\n",
    "    plt.ylabel(\"Readability Score (out of 100)\")\n",
    "    plt.ylim(0, 100)\n",
    "\n",
    "    for i, score in enumerate(readability_scores):\n",
    "        plt.text(i, score + 1, str(score), ha=\"center\", va=\"bottom\")\n",
    "\n",
    "    plt.show()\n",
    "\n",
    "    models = [\"CPG\", \"Mistral LLM\"]\n",
    "    rouge4_recall = [\n",
    "        cpg_metrics[\"rouge_scores\"][\"rouge4\"].recall,\n",
    "        llm_metrics[\"rouge_scores\"][\"rouge4\"].recall,\n",
    "    ]\n",
    "    rougeL_recall = [\n",
    "        cpg_metrics[\"rouge_scores\"][\"rougeL\"].recall,\n",
    "        llm_metrics[\"rouge_scores\"][\"rougeL\"].recall,\n",
    "    ]\n",
    "    bleu_scores = [\n",
    "        cpg_metrics[\"bleu_scores\"][\"bleu\"],\n",
    "        llm_metrics[\"bleu_scores\"][\"bleu\"],\n",
    "    ]\n",
    "    tokens_per_second = [\n",
    "        cpg_metrics[\"tokens_per_second\"],\n",
    "        llm_metrics[\"tokens_per_second\"],\n",
    "    ]\n",
    "\n",
    "    bar_width = 0.2\n",
    "    index = np.arange(len(models))\n",
    "\n",
    "    # Create the bar charts\n",
    "    plt.figure(figsize=(10, 6))\n",
    "    plt.bar(index, rouge4_recall, bar_width, label=\"Rouge4 Recall\", color=\"red\")\n",
    "    plt.bar(\n",
    "        index + bar_width, rougeL_recall, bar_width, label=\"RougeL Recall\", color=\"green\"\n",
    "    )\n",
    "    plt.bar(\n",
    "        index + 2 * bar_width,\n",
    "        bleu_scores,\n",
    "        bar_width,\n",
    "        label=\"Bleu Score\",\n",
    "        color=\"blue\",\n",
    "    )\n",
    "\n",
    "    plt.title(\"CPG v/s Mistral LLM\")\n",
    "    plt.xlabel(\"Models\")\n",
    "    plt.ylabel(\"Scores (out of 100)\")\n",
    "    plt.ylim(0, 1)\n",
    "    plt.xticks(index + bar_width, models)\n",
    "\n",
    "    plt.legend()\n",
    "\n",
    "    plt.show()\n",
    "\n",
    "\n",
    "    plt.figure(figsize=(8, 6))\n",
    "    plt.bar(models, tokens_per_second, color=[\"green\", \"red\"])\n",
    "\n",
    "    plt.title(\"Tokens/Second\")\n",
    "    plt.xlabel(\"Models\")\n",
    "    plt.ylabel(\"Tokens/Second\")\n",
    "\n",
    "    for i, score in enumerate(tokens_per_second):\n",
    "        plt.text(i, score + 1, str(score), ha=\"center\", va=\"bottom\")\n",
    "\n",
    "    plt.show()"
   ]
  },
  {
   "cell_type": "code",
   "execution_count": 23,
   "metadata": {},
   "outputs": [],
   "source": [
    "import time\n",
    "\n",
    "def compare_cpg_llm(context, api_key):\n",
    "    words = word_tokenize(context)\n",
    "    word_count = len(words)\n",
    "    if  word_count < 200 or word_count > 400:\n",
    "        print(\"Context should have token count between 200 andd 400\")\n",
    "        return\n",
    "    \n",
    "    start_cpg = time.time()\n",
    "    cpg_output = paraphrase_context(context)\n",
    "    end_cpg = time.time()\n",
    "    cpg_time = end_cpg - start_cpg\n",
    "    tokens_per_second_cpg = word_count/cpg_time\n",
    "    cpg_metrics = evaluate_parapharsing(context, cpg_output)\n",
    "    cpg_metrics[\"tokens_per_second\"] = tokens_per_second_cpg\n",
    "\n",
    "    print(cpg_metrics)\n",
    "\n",
    "    start_llm = time.time()\n",
    "    llm_out = paraphrase_context_llm(context, api_key=api_key)\n",
    "    end_llm = time.time()\n",
    "    llm_time = end_llm - start_llm\n",
    "    tokens_per_second_llm = word_count/llm_time\n",
    "    llm_metrics = evaluate_parapharsing(context, llm_out)\n",
    "    llm_metrics[\"tokens_per_second\"] = tokens_per_second_llm\n",
    "\n",
    "    print(llm_metrics)\n",
    "\n",
    "    plot_results(cpg_metrics, llm_metrics)\n",
    "\n",
    "    return cpg_output, llm_out\n",
    "\n",
    " \n",
    "    "
   ]
  },
  {
   "cell_type": "code",
   "execution_count": 14,
   "metadata": {},
   "outputs": [],
   "source": [
    "context = \"\"\"A cover letter is a formal document that accompanies your resume when you apply for a job. It serves as\n",
    "an introduction and provides additional context for your application. Here’s a breakdown of its various\n",
    "aspects:\n",
    "Purpose\n",
    "The primary purpose of a cover letter is to introduce yourself to the hiring manager and to provide context\n",
    "for your resume. It allows you to elaborate on your qualifications, skills, and experiences in a way that\n",
    "your resume may not fully capture. It’s also an opportunity to express your enthusiasm for the role and the\n",
    "company, and to explain why you would be a good fit.\n",
    "Content\n",
    "A typical cover letter includes the following sections:\n",
    "1. Header: Includes your contact information, the date, and the employer’s contact information.\n",
    "2. Salutation: A greeting to the hiring manager, preferably personalized with their name.\n",
    "3. Introduction: Briefly introduces who you are and the position you’re applying for.\n",
    "4. Body: This is the core of your cover letter where you discuss your qualifications, experiences, and\n",
    "skills that make you suitable for the job. You can also mention how you can contribute to the company.\n",
    "5. Conclusion: Summarizes your points and reiterates your enthusiasm for the role. You can also include\n",
    "a call to action, like asking for an interview.\n",
    "6. Signature: A polite closing (“Sincerely,” “Best regards,” etc.) followed by your name.\n",
    "Significance in the Job Application Process\n",
    "The cover letter is often the first document that a hiring manager will read, so it sets the tone for your\n",
    "entire application. It provides you with a chance to stand out among other applicants and to make a\n",
    "strong first impression. Some employers specifically require a cover letter, and failing to include one could\n",
    "result in your application being disregarded.\n",
    "In summary, a cover letter is an essential component of a job application that serves to introduce you,\n",
    "elaborate on your qualifications, and make a compelling case for why you should be considered for the\n",
    "position.\"\"\""
   ]
  },
  {
   "cell_type": "code",
   "execution_count": 15,
   "metadata": {},
   "outputs": [],
   "source": [
    "api_key = \"1jz8o97EMc5e4K0uZpW34c2SO3ewbTwX\""
   ]
  },
  {
   "cell_type": "code",
   "execution_count": 25,
   "metadata": {},
   "outputs": [
    {
     "name": "stderr",
     "output_type": "stream",
     "text": [
      "/Users/chaitanya/Personal/Projects/project_env/lib/python3.11/site-packages/transformers/tokenization_utils_base.py:2778: UserWarning: `max_length` is ignored when `padding`=`True` and there is no truncation strategy. To pad to max length, use `padding='max_length'`.\n",
      "  warnings.warn(\n"
     ]
    },
    {
     "name": "stdout",
     "output_type": "stream",
     "text": [
      "{'context_stats': {'word_count': 329, 'sentence_count': 19, 'word_to_sentence_ratio': 17.32, 'readability_score': 53.92}, 'para_stats': {'word_count': 339, 'sentence_count': 20, 'word_to_sentence_ratio': 16.95, 'readability_score': 54.22}, 'rouge_scores': {'rouge4': Score(precision=0.42058823529411765, recall=0.43333333333333335, fmeasure=0.426865671641791), 'rouge8': Score(precision=0.19642857142857142, recall=0.20245398773006135, fmeasure=0.19939577039274925), 'rougeL': Score(precision=0.7696793002915452, recall=0.7927927927927928, fmeasure=0.7810650887573964)}, 'bleu_scores': {'bleu': 0.5733276874226232, 'precisions': [0.7949367088607595, 0.6345177664974619, 0.5089058524173028, 0.42091836734693877], 'brevity_penalty': 1.0, 'length_ratio': 1.036745406824147, 'translation_length': 395, 'reference_length': 381}, 'tokens_per_second': 2.119285552724439}\n",
      "{'context_stats': {'word_count': 329, 'sentence_count': 19, 'word_to_sentence_ratio': 17.32, 'readability_score': 53.92}, 'para_stats': {'word_count': 314, 'sentence_count': 18, 'word_to_sentence_ratio': 17.44, 'readability_score': 53.81}, 'rouge_scores': {'rouge4': Score(precision=0.2484076433121019, recall=0.23636363636363636, fmeasure=0.24223602484472048), 'rouge8': Score(precision=0.04516129032258064, recall=0.04294478527607362, fmeasure=0.0440251572327044), 'rougeL': Score(precision=0.6845425867507886, recall=0.6516516516516516, fmeasure=0.6676923076923076)}, 'bleu_scores': {'bleu': 0.4374965817715169, 'precisions': [0.7493112947658402, 0.5220994475138122, 0.3878116343490305, 0.29444444444444445], 'brevity_penalty': 0.9516225757348378, 'length_ratio': 0.952755905511811, 'translation_length': 363, 'reference_length': 381}, 'tokens_per_second': 38.05331394624129}\n"
     ]
    },
    {
     "data": {
      "image/png": "[encoded data removed]",
      "text/plain": [
       "<Figure size 800x600 with 1 Axes>"
      ]
     },
     "metadata": {},
     "output_type": "display_data"
    },
    {
     "data": {
      "image/png": "[encoded data removed]",
      "text/plain": [
       "<Figure size 1000x600 with 1 Axes>"
      ]
     },
     "metadata": {},
     "output_type": "display_data"
    },
    {
     "data": {
      "image/png": "[encoded data removed]",
      "text/plain": [
       "<Figure size 800x600 with 1 Axes>"
      ]
     },
     "metadata": {},
     "output_type": "display_data"
    }
   ],
   "source": [
    "cpg_output, llm_output = compare_cpg_llm(context, api_key)"
   ]
  },
  {
   "cell_type": "code",
   "execution_count": 29,
   "metadata": {},
   "outputs": [],
   "source": [
    "with open(\"./results/cpg_output.txt\", \"w\") as outfile:\n",
    "    outfile.write(cpg_output)\n",
    "\n",
    "with open(\"./results/llm_output.txt\", \"w\") as outfile:\n",
    "    outfile.write(llm_output)"
   ]
  },
  {
   "cell_type": "code",
   "execution_count": null,
   "metadata": {},
   "outputs": [],
   "source": []
  }
 ],
 "metadata": {
  "kernelspec": {
   "display_name": "project_env",
   "language": "python",
   "name": "python3"
  },
  "language_info": {
   "codemirror_mode": {
    "name": "ipython",
    "version": 3
   },
   "file_extension": ".py",
   "mimetype": "text/x-python",
   "name": "python",
   "nbconvert_exporter": "python",
   "pygments_lexer": "ipython3",
   "version": "3.11.9"
  }
 },
 "nbformat": 4,
 "nbformat_minor": 2
}
